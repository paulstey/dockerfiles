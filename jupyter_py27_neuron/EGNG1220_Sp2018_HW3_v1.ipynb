{
 "cells": [
  {
   "cell_type": "markdown",
   "metadata": {},
   "source": [
    "# NEURON: Ball-and-stick electrical model of a neuron"
   ]
  },
  {
   "cell_type": "markdown",
   "metadata": {},
   "source": [
    "This notebook is under [LGPLv3](https://raw.githubusercontent.com/BlueBrain/MOOC-neurons-and-synapses-2017/master/LICENSE.txt) license.\n",
    "\n",
    "Some parts of the notebook were adopted from Blue Brain Project / EPFL ©2005-2017."
   ]
  },
  {
   "cell_type": "markdown",
   "metadata": {},
   "source": [
    "## 1. Introduction"
   ]
  },
  {
   "cell_type": "markdown",
   "metadata": {},
   "source": [
    "In this exercise, you will be introduced to the NEURON simulator. You will learn how to:\n",
    "* **Load** the NEURON simulator in Python using Jupyter Notebook environment\n",
    " * You can find additional information about Jupyter Notebooks on [this page](http://jupyter-notebook-beginner-guide.readthedocs.io/en/latest/index.html).\n",
    "* Construct a **single compartmental electrical** model\n",
    "* **Run a simulation**, record the membrane voltage of the model and inject an external current\n",
    "* **Add ion channels** to the membrane of the model\n",
    "* Explore the properties of the Hodgkin-Huxley equation-based model of a neuron"
   ]
  },
  {
   "cell_type": "markdown",
   "metadata": {},
   "source": [
    "Execute the following cell to get the latest version of the software:"
   ]
  },
  {
   "cell_type": "code",
   "execution_count": null,
   "metadata": {
    "collapsed": true
   },
   "outputs": [],
   "source": [
    "import os\n",
    "#os.unsetenv('PYTHONHOME') # Solve an issue with NEURON simulator import\n",
    "\n",
    "# Install software, ignore some warnings\n",
    "#!pip install -q bluepyopt==1.5.12 matplotlib==2.0.2 numpy==1.13.0 2>&1 | grep -v 'SNIMissingWarning\\|InsecurePlatformWarning'\n",
    "\n",
    "# Show matplotlib plots inline\n",
    "%matplotlib inline "
   ]
  },
  {
   "cell_type": "markdown",
   "metadata": {
    "collapsed": true
   },
   "source": [
    "## 2. Loading the NEURON simulator"
   ]
  },
  {
   "cell_type": "markdown",
   "metadata": {
    "collapsed": true
   },
   "source": [
    "We first import the NEURON Python module"
   ]
  },
  {
   "cell_type": "code",
   "execution_count": null,
   "metadata": {
    "collapsed": true
   },
   "outputs": [],
   "source": [
    "import neuron"
   ]
  },
  {
   "cell_type": "markdown",
   "metadata": {},
   "source": [
    "The documentation of NEURON is available [here](https://www.neuron.yale.edu/neuron/docs).\n",
    "\n",
    "Historically the NEURON simulator was controlled using the [HOC language](https://www.neuron.yale.edu/neuron/static/new_doc/programming/hocsyntax.html).\n",
    "More and more scientists are switching to the Python interface of NEURON. In Python there is something called the [HOCObject](https://www.neuron.yale.edu/neuron/static/docs/help/neuron/neuron/classes/python.html#HocObject) which can be accessed by 'h' property of the neuron module, and which contains the HOC functionality of NEURON. For example, to load the 'stdrun.hoc' file which contains some handy functionality one calls the HOC function load_file using:"
   ]
  },
  {
   "cell_type": "code",
   "execution_count": null,
   "metadata": {
    "collapsed": true
   },
   "outputs": [],
   "source": [
    "print neuron.h\n",
    "# Load external files\n",
    "neuron.h.load_file(\"/home/jones/hoc/stdrun.hoc\");"
   ]
  },
  {
   "cell_type": "markdown",
   "metadata": {},
   "source": [
    "To make sure we start from a clean state, we initialise the simulator"
   ]
  },
  {
   "cell_type": "code",
   "execution_count": null,
   "metadata": {
    "collapsed": true
   },
   "outputs": [],
   "source": [
    "neuron.h.stdinit();"
   ]
  },
  {
   "cell_type": "markdown",
   "metadata": {},
   "source": [
    "It is important to know that all the values used in NEURON have a certain default unit. \n",
    "The list of the defaults can be accessed here: https://www.neuron.yale.edu/neuron/static/docs/units/unitchart.html\n",
    "\n",
    "For now the most important ones are:\n",
    "* **length**: micrometer (um)\n",
    "* **time**: milliseconds (ms)\n",
    "* **voltage**: millivolt (mV)\n",
    "* **specific capacitance**: microfarad/cm2 (uf/cm2)"
   ]
  },
  {
   "cell_type": "markdown",
   "metadata": {},
   "source": [
    "## 3. Constructing a neuron consisting of one compartment"
   ]
  },
  {
   "cell_type": "markdown",
   "metadata": {},
   "source": [
    "The basic structure of a cell in NEURON is a set of interconnected cylinders (called segments or compartments). Each of these cylinders represents an isopotential part of the cell. The segments between the branch points are grouped together in sections.\n",
    "\n",
    "![Segments](https://bbp.epfl.ch/public/SimNeuroMOOC/images/TutBallStick/segments.jpg)\n",
    "\n",
    "<center> *Figure 1.* Cable (upper panel) and compartmental (lower panel) representation of a branch of Purkinje cell neuron. Figure adapted from: Schutter, E. D. (2009). [Computational modeling methods for neuroscientists. The MIT Press](https://search.library.brown.edu/catalog/b7926844).</center>"
   ]
  },
  {
   "cell_type": "markdown",
   "metadata": {},
   "source": [
    "Following a familiar electrical circuit representation of a neuron discussed in class, the somatic membrane of a neuron with a dendrite can be modelled as shown below:\n",
    "\n",
    "![ecircuit](https://bbp.epfl.ch/public/SimNeuroMOOC/images/TutBallStick/\n",
    "ballandstick_circuit.jpg)\n",
    "<center> *Figure 2.* Ball-and-stick model of neuron with a dendrite.</center>"
   ]
  },
  {
   "cell_type": "markdown",
   "metadata": {},
   "source": [
    "The soma of our cell represents one of the sections.\n",
    "Let's start by creating a cell with just a soma:"
   ]
  },
  {
   "cell_type": "code",
   "execution_count": null,
   "metadata": {
    "collapsed": true
   },
   "outputs": [],
   "source": [
    "soma = neuron.h.Section(name='soma')\n",
    "\n",
    "print \"Soma object:\", soma\n",
    "print \"Soma object name: \", soma.name()\n",
    "\n",
    "print \"Number of segments in the soma:\", soma.nseg"
   ]
  },
  {
   "cell_type": "markdown",
   "metadata": {},
   "source": [
    "Just as every other section in NEURON, the soma is represented as a cylinder. We can set the length and diameter of this section."
   ]
  },
  {
   "cell_type": "code",
   "execution_count": null,
   "metadata": {
    "collapsed": true
   },
   "outputs": [],
   "source": [
    "soma.L = 40\n",
    "soma.diam = 40\n",
    "soma.Ra = 125 # Ohm * cm\n",
    "print \"Soma length: %f micron\" % soma.L \n",
    "print \"Soma diameter: %f micron\" % soma.diam\n",
    "print \"Soma axial resistance: %f Ohm x cm\" % soma.Ra"
   ]
  },
  {
   "cell_type": "markdown",
   "metadata": {},
   "source": [
    "We can calculate the surface area of the soma using the 'area()' function, and compare it to the equation to calculate the surface area of a cylinder:"
   ]
  },
  {
   "cell_type": "code",
   "execution_count": null,
   "metadata": {
    "collapsed": true
   },
   "outputs": [],
   "source": [
    "soma_area_eq = 2 * neuron.h.PI * soma.L * soma.diam / 2\n",
    "print \"Soma area according to cylinder surface area equation: %f micron^2\" % soma_area_eq\n",
    "\n",
    "# The 0.5 refers to the segment in the middle of the soma\n",
    "# Because there is only one segment, in this case it refers to the entire soma\n",
    "soma_area = neuron.h.area(0.5, sec=soma)\n",
    "print \"Soma area according to NEURON: %f micron^2\" % soma_area\n",
    "\n",
    "print \"Both values match: %s\" % (soma_area_eq == soma_area)"
   ]
  },
  {
   "cell_type": "markdown",
   "metadata": {},
   "source": [
    "So now we have defined the shape of this single compartmental cell. Electrically the only component that is present for now is the capacitance of the cell membrane. We can retrieve or set the specific membrane capacitance by accessing the 'cm' field. The units of this field are microFarad per cm2. You will see that in NEURON most quantities related to the surface currents are specified per membrane surface area."
   ]
  },
  {
   "cell_type": "code",
   "execution_count": null,
   "metadata": {
    "collapsed": true
   },
   "outputs": [],
   "source": [
    "print \"Specific capacitance: %f uf/cm2\" % soma.cm"
   ]
  },
  {
   "cell_type": "markdown",
   "metadata": {},
   "source": [
    "## 4. Running a simulation"
   ]
  },
  {
   "cell_type": "markdown",
   "metadata": {},
   "source": [
    "Let's now run a simulation over time. We will record the [membrane voltage](http://www.st-andrews.ac.uk/~wjh/neurotut/mempot.html) in the middle of the soma during the simulation:"
   ]
  },
  {
   "cell_type": "code",
   "execution_count": null,
   "metadata": {
    "collapsed": true
   },
   "outputs": [],
   "source": [
    "print \"Membrane voltage soma: %f mV\" % soma(.5).v # mV"
   ]
  },
  {
   "cell_type": "markdown",
   "metadata": {},
   "source": [
    "As you can see, the voltage of the cell has been initialised to -65 mV, which roughly corresponds to a typical value in neurons at rest (also called the *resting membrane potential*)."
   ]
  },
  {
   "cell_type": "markdown",
   "metadata": {},
   "source": [
    "The simulator will integrate the equations over time. The current time is saved in a variable called 't':"
   ]
  },
  {
   "cell_type": "code",
   "execution_count": null,
   "metadata": {
    "collapsed": true
   },
   "outputs": [],
   "source": [
    "print \"Current time: %f ms\" % neuron.h.t # ms"
   ]
  },
  {
   "cell_type": "markdown",
   "metadata": {},
   "source": [
    "When the run() function is called, the simulation will run until a predefined time stored in the the 'tstop' variable. Every timestep, defined by 'dt', a new voltage value will be calculated. "
   ]
  },
  {
   "cell_type": "code",
   "execution_count": null,
   "metadata": {
    "collapsed": true
   },
   "outputs": [],
   "source": [
    "neuron.h.tstop = 100\n",
    "print \"Simulation stop time: %f ms\" % neuron.h.tstop\n",
    "print \"Integration time step: %f ms\" % neuron.h.dt"
   ]
  },
  {
   "cell_type": "markdown",
   "metadata": {},
   "source": [
    "To record the time and voltage we create two NEURON Vector objects. These objects have a 'record' method that, when passed a reference to a variable, will record the value of that variable in the vector during the simulation."
   ]
  },
  {
   "cell_type": "code",
   "execution_count": null,
   "metadata": {
    "collapsed": true
   },
   "outputs": [],
   "source": [
    "time = neuron.h.Vector()\n",
    "voltage = neuron.h.Vector()\n",
    "\n",
    "time.record(neuron.h._ref_t)\n",
    "voltage.record(soma(.5)._ref_v);"
   ]
  },
  {
   "cell_type": "code",
   "execution_count": null,
   "metadata": {
    "collapsed": true
   },
   "outputs": [],
   "source": [
    "neuron.h.run()\n",
    "\n",
    "def plot_tv(time_array, voltage_array, show=True, label=None, constants=[]):\n",
    "    import matplotlib.pyplot as plt\n",
    "    import numpy\n",
    "    plt.plot(time_array, voltage_array, label=label)\n",
    "    for constant in constants:\n",
    "        plt.plot(time_array, constant*numpy.ones(len(time_array)))\n",
    "    plt.xlabel('Time (ms)')\n",
    "    plt.ylabel('Membrane voltage (mV)')\n",
    "    if show:\n",
    "        plt.show()\n",
    "    \n",
    "plot_tv(time, voltage)"
   ]
  },
  {
   "cell_type": "markdown",
   "metadata": {},
   "source": [
    "So, basically the voltage has stayed the same over time. We can see why this happened by looking at the following equation NEURON is integrating:\n",
    "\n",
    "$$C_{m} \\frac{dV}{dt} = I_{m}$$\n",
    "\n",
    "Basically, the change in voltage is related to the current going across the membrane. Since we don't have any mechanisms that allow currents to cross the membrane, $I_{m}$ is zero, and our voltage stay the same:\n",
    "\n",
    "$$dV = I_{m} \\frac{dt}{C_{m}} = 0 \\frac{dt}{C_{m}}$$"
   ]
  },
  {
   "cell_type": "markdown",
   "metadata": {},
   "source": [
    "## 5. Injecting a current"
   ]
  },
  {
   "cell_type": "markdown",
   "metadata": {},
   "source": [
    "Let's now see how we can charge the cell membrane voltage. For this, we stick a virtual electrode in the center of the soma, and inject current using a current clamp. We specify an amplitude (in nA), a delay and a duration for our stimulus."
   ]
  },
  {
   "cell_type": "code",
   "execution_count": null,
   "metadata": {
    "collapsed": true
   },
   "outputs": [],
   "source": [
    "iclamp = neuron.h.IClamp(.5, sec=soma)\n",
    "iclamp.amp = 0.5 # nA\n",
    "iclamp.delay = 10 # ms\n",
    "iclamp.dur = 50 # ms"
   ]
  },
  {
   "cell_type": "code",
   "execution_count": null,
   "metadata": {
    "collapsed": true
   },
   "outputs": [],
   "source": [
    "neuron.h.run()\n",
    "\n",
    "plot_tv(time, voltage)"
   ]
  },
  {
   "cell_type": "markdown",
   "metadata": {},
   "source": [
    "## 6. Adding a leak conductance"
   ]
  },
  {
   "cell_type": "markdown",
   "metadata": {},
   "source": [
    "We'll now start adding transmembrane currents to the model as described in the **Hodgkin-Huxley model**.\n",
    "To enable the equations for this model, we insert the 'hh' mechanism in the soma:"
   ]
  },
  {
   "cell_type": "code",
   "execution_count": null,
   "metadata": {
    "collapsed": true
   },
   "outputs": [],
   "source": [
    "soma.insert('hh');"
   ]
  },
  {
   "cell_type": "markdown",
   "metadata": {},
   "source": [
    "Now NEURON will integrate the following equation to calculate the membrane voltage over time:\n",
    "\n",
    "$$C_{m} dV/dt = -(I_{Na} + I_{K} + I_{leak}) + I_{ext} = -(g_{Na}(V)*(V - E_{Na}) + g_{K}(V)*(V - E_{K}) + g_{leak}*(V - E_{leak})) + I_{ext}$$\n",
    "\n",
    "We have a sodium and potassium current with voltage dependent conductance, and a leakage current with a voltage independent conductance."
   ]
  },
  {
   "cell_type": "markdown",
   "metadata": {},
   "source": [
    "Initially we'll set the Na and K conductance to zero:"
   ]
  },
  {
   "cell_type": "code",
   "execution_count": null,
   "metadata": {
    "collapsed": true
   },
   "outputs": [],
   "source": [
    "soma.gkbar_hh = 0.0\n",
    "soma.gnabar_hh = 0.0"
   ]
  },
  {
   "cell_type": "markdown",
   "metadata": {},
   "source": [
    "The value for the leak conductance is set using the 'gl_hh' attribute ('hh' refers to the name of the mechanism, 'gl' to the name of the parameter inside the 'hh' description). "
   ]
  },
  {
   "cell_type": "code",
   "execution_count": null,
   "metadata": {
    "collapsed": true
   },
   "outputs": [],
   "source": [
    "soma.gl_hh = 5e-4 # Leak conductance, S/cm^2"
   ]
  },
  {
   "cell_type": "markdown",
   "metadata": {
    "collapsed": true
   },
   "source": [
    "The 'el_hh' attribute sets the reversal potential. We call this the 'reversal' potential because the value corresponds to the membrane voltage at which the leak current changes polarity. It's the potential towards which this type of the channel 'pushes' the membrane voltage. Let's set the value equal to the resting membrane potential of the cell, so that we have a force that tries to maintain -65 mV."
   ]
  },
  {
   "cell_type": "code",
   "execution_count": null,
   "metadata": {
    "collapsed": true
   },
   "outputs": [],
   "source": [
    "el = soma.el_hh = -65 # Reversal potential leak current, mV\n",
    "print \"Reveral of leak current: %f mV\" % el"
   ]
  },
  {
   "cell_type": "code",
   "execution_count": null,
   "metadata": {
    "collapsed": true
   },
   "outputs": [],
   "source": [
    "soma.gkbar_hh = 0.0\n",
    "soma.gnabar_hh = 0.0\n",
    "\n",
    "neuron.h.tstop = 100\n",
    "\n",
    "neuron.h.run()\n",
    "\n",
    "plot_tv(time, voltage)"
   ]
  },
  {
   "cell_type": "markdown",
   "metadata": {},
   "source": [
    "## 7. Adding active ion channels"
   ]
  },
  {
   "cell_type": "markdown",
   "metadata": {
    "collapsed": true
   },
   "source": [
    "Now we are adding the active voltage dependent ion channels of the Hodgkin-Huxley mechanism."
   ]
  },
  {
   "cell_type": "markdown",
   "metadata": {},
   "source": [
    "$$C_{m} \\frac{dV}{dt} = -(g_{Na}(V)(V - E_{Na}) + g_{K}(V)(V - E_{K}) + g_{leak}(V - E_{leak})) + I_{ext} = -({\\overline{g}}_{Na}m^{3}h(V - E_{Na}) + {\\overline{g}}_{K}n^{4}(V - E_{K}) + g_{leak}(V - E_{leak})) + I_{ext}$$"
   ]
  },
  {
   "cell_type": "markdown",
   "metadata": {},
   "source": [
    "The conductance $g_{Na}$ and $g_{K}$ are decomposed in $\\overline{g}_{Na} m^3h$ and $\\overline{g}_{K} n^4$. The $\\overline{g}_{Na}$ and $\\overline{g}_{K}$ are parameters of the model that are expressed in siemens/cm^2. They basically represent the density of the ion channels on the membrane. Let's set these to a value different than 0.\n",
    "When we run the model, we will see that the model now generates action potentials."
   ]
  },
  {
   "cell_type": "code",
   "execution_count": null,
   "metadata": {
    "collapsed": true
   },
   "outputs": [],
   "source": [
    "soma.gkbar_hh = 0.01 # in S/cm^2\n",
    "soma.gnabar_hh = 0.1 # in S/cm^2\n",
    "\n",
    "neuron.h.run()\n",
    "\n",
    "plot_tv(time, voltage)"
   ]
  }
 ],
 "metadata": {
  "kernelspec": {
   "display_name": "Python 3",
   "language": "python",
   "name": "python3"
  },
  "language_info": {
   "codemirror_mode": {
    "name": "ipython",
    "version": 3
   },
   "file_extension": ".py",
   "mimetype": "text/x-python",
   "name": "python",
   "nbconvert_exporter": "python",
   "pygments_lexer": "ipython3",
   "version": "3.6.2"
  }
 },
 "nbformat": 4,
 "nbformat_minor": 2
}
